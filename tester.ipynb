{
 "cells": [
  {
   "cell_type": "code",
   "execution_count": 1,
   "metadata": {},
   "outputs": [
    {
     "name": "stderr",
     "output_type": "stream",
     "text": [
      "/home/codespace/.local/lib/python3.12/site-packages/tqdm/auto.py:21: TqdmWarning: IProgress not found. Please update jupyter and ipywidgets. See https://ipywidgets.readthedocs.io/en/stable/user_install.html\n",
      "  from .autonotebook import tqdm as notebook_tqdm\n"
     ]
    }
   ],
   "source": [
    "from trl.agents.utils import AsyncE2BExecutor,LocalExecutor"
   ]
  },
  {
   "cell_type": "code",
   "execution_count": 2,
   "metadata": {},
   "outputs": [],
   "source": [
    "# Initialize the executor with your API key\n",
    "# Initialize the executor with your API key\n",
    "executor = AsyncE2BExecutor(api_key=\"e2b_9f17248b4c30dac21400e155f031824e180e5a09\",max_concurrent=5)\n",
    "#executer = LocalExecutor()\n"
   ]
  },
  {
   "cell_type": "code",
   "execution_count": 3,
   "metadata": {},
   "outputs": [],
   "source": [
    "# Test with multiple code snippets\n",
    "code_snippets = [\n",
    "    \"print('First task')\",\n",
    "    \"import time; time.sleep(2); print('Second task - with delay')\",\n",
    "    \"print('Third task')\",\n",
    "    \"print('Fourth task')\",\n",
    "    \"import numpy as np; print(np.random.rand(3))\"  # Assuming numpy is in template\n",
    "]"
   ]
  },
  {
   "cell_type": "code",
   "execution_count": 4,
   "metadata": {},
   "outputs": [],
   "source": [
    "sleeping_code = [\n",
    "    \"import time; time.sleep(3); print('Task 1')\",\n",
    "    \"import time; time.sleep(3); print('Task 2')\",\n",
    "    \"import time; time.sleep(3); print('Task 3')\",\n",
    "    \"import time; time.sleep(3); print('Task 4')\",\n",
    "    \"import time; time.sleep(3); print('Task 5')\",\n",
    "]"
   ]
  },
  {
   "cell_type": "code",
   "execution_count": 5,
   "metadata": {},
   "outputs": [],
   "source": [
    "results = executor.execute(sleeping_code)"
   ]
  },
  {
   "cell_type": "code",
   "execution_count": 6,
   "metadata": {},
   "outputs": [
    {
     "data": {
      "text/plain": [
       "[\"Execution(Results: [], Logs: Logs(stdout: ['Task 1\\\\n'], stderr: []), Error: None)\",\n",
       " \"Execution(Results: [], Logs: Logs(stdout: ['Task 2\\\\n'], stderr: []), Error: None)\",\n",
       " \"Execution(Results: [], Logs: Logs(stdout: ['Task 3\\\\n'], stderr: []), Error: None)\",\n",
       " \"Execution(Results: [], Logs: Logs(stdout: ['Task 4\\\\n'], stderr: []), Error: None)\",\n",
       " \"Execution(Results: [], Logs: Logs(stdout: ['Task 5\\\\n'], stderr: []), Error: None)\"]"
      ]
     },
     "execution_count": 6,
     "metadata": {},
     "output_type": "execute_result"
    }
   ],
   "source": [
    "results"
   ]
  },
  {
   "cell_type": "code",
   "execution_count": null,
   "metadata": {},
   "outputs": [],
   "source": []
  }
 ],
 "metadata": {
  "kernelspec": {
   "display_name": "Python 3",
   "language": "python",
   "name": "python3"
  },
  "language_info": {
   "codemirror_mode": {
    "name": "ipython",
    "version": 3
   },
   "file_extension": ".py",
   "mimetype": "text/x-python",
   "name": "python",
   "nbconvert_exporter": "python",
   "pygments_lexer": "ipython3",
   "version": "3.12.1"
  }
 },
 "nbformat": 4,
 "nbformat_minor": 2
}
